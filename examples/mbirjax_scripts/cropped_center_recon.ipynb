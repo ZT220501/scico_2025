{
  "cells": [
    {
      "cell_type": "markdown",
      "metadata": {
        "id": "ujbTnIvChrzs"
      },
      "source": [
        "**MBIRJAX: Cropped Center Reconstruction Demo**\n",
        "\n",
        "See the [MBIRJAX documentation](https://mbirjax.readthedocs.io/en/latest/) for an overview and details.  \n",
        "\n",
        "This script demonstrates how to do a reconstruction restricted to an area around the center of rotation.  This is a difficult problem for model-based methods, so the reconstruction has some unavoidable artifacts and intensity shifts, but it does show features near the center without having to do a full reconstruction, which may be useful for large sinograms.  \n",
        "\n",
        "For this demo, we use a larger detector since the artifacts are more pronounced for very small-scale problems.  To maintain a short run-time, we reduce the number of slices.\n",
        "\n",
        "Also, we use a phantom that projects fully onto the detector, but you can use the same method when the object projects partially outside the detector.  \n",
        "\n",
        "For simplicity, we show this only for parallel beam, but the same steps apply for cone beam.   \n",
        "\n",
        "See [demo_1_shepp_logan.py](https://colab.research.google.com/drive/1zG_H6CDjuQxeMRQHan3XEyX2YVKcSSNC) for the basic steps of synthetic sinogram generation and reconstruction.\n",
        "\n",
        "Select a GPU as runtime type for best performance."
      ]
    },
    {
      "cell_type": "code",
      "execution_count": 1,
      "metadata": {
        "id": "iaXgPJT2h3n-"
      },
      "outputs": [
        {
          "name": "stderr",
          "output_type": "stream",
          "text": [
            "/home/zhengtan/anaconda3/envs/ct_reconstruction/lib/python3.13/site-packages/mbirjax/viewer.py:15: UserWarning: TkAgg not available. Falling back to Agg.\n",
            "  warnings.warn(\"TkAgg not available. Falling back to Agg.\")\n"
          ]
        },
        {
          "data": {
            "text/plain": [
              "<module 'mbirjax' from '/home/zhengtan/anaconda3/envs/ct_reconstruction/lib/python3.13/site-packages/mbirjax/__init__.py'>"
            ]
          },
          "execution_count": 1,
          "metadata": {},
          "output_type": "execute_result"
        }
      ],
      "source": [
        "import numpy as np\n",
        "import pprint\n",
        "import time\n",
        "import jax.numpy as jnp\n",
        "import mbirjax\n",
        "\n",
        "import importlib\n",
        "importlib.reload(mbirjax)"
      ]
    },
    {
      "cell_type": "code",
      "execution_count": 2,
      "metadata": {},
      "outputs": [],
      "source": [
        "import os\n",
        "os.environ[\"CUDA_VISIBLE_DEVICES\"]=\"0\""
      ]
    },
    {
      "cell_type": "markdown",
      "metadata": {
        "id": "yycXpHzojtkK"
      },
      "source": [
        "**Set the geometry parameters**"
      ]
    },
    {
      "cell_type": "code",
      "execution_count": 3,
      "metadata": {
        "id": "UCQevrzlipKH"
      },
      "outputs": [],
      "source": [
        "# Set parameters for the problem size.  Here we use a fairly large number of views and channels to illustrate\n",
        "# the behavior of a center cropped recon.\n",
        "num_views = 400\n",
        "num_det_rows = 20\n",
        "num_det_channels = 400\n",
        "\n",
        "start_angle = - np.pi / 2\n",
        "end_angle = np.pi / 2"
      ]
    },
    {
      "cell_type": "markdown",
      "metadata": {
        "id": "ZBgyH_IFkHXE"
      },
      "source": [
        "**Data generation:** For demo purposes, we create a phantom and then project it to create a sinogram.\n",
        "\n",
        "For this demo we use the default recon shape for parallel beam.\n",
        "\n",
        "Note:  the sliders on the viewer won't work in notebook form.  For that you'll need to run the python code with an interactive matplotlib backend, typcially using the command line or a development environment like Spyder or Pycharm to invoke python.  \n"
      ]
    },
    {
      "cell_type": "code",
      "execution_count": 4,
      "metadata": {
        "colab": {
          "base_uri": "https://localhost:8080/",
          "height": 729
        },
        "id": "Tat7u_HVkcfZ",
        "outputId": "1e01c4ac-e8f6-4a08-8c21-7ec3615e2e14"
      },
      "outputs": [
        {
          "name": "stdout",
          "output_type": "stream",
          "text": [
            "delta_voxel:  None\n",
            "Creating phantom\n",
            "Shape of phantom:  (400, 400, 20)\n",
            "Creating sinogram\n",
            "Type of sinogram:  <class 'jaxlib.xla_extension.ArrayImpl'>\n",
            "sinogram.shape:  (400, 20, 400)\n"
          ]
        }
      ],
      "source": [
        "# Initialize sinogram\n",
        "sinogram_shape = (num_views, num_det_rows, num_det_channels)\n",
        "angles = jnp.linspace(start_angle, end_angle, num_views, endpoint=False)\n",
        "\n",
        "ct_model_for_generation = mbirjax.ParallelBeamModel(sinogram_shape, angles)\n",
        "\n",
        "# Generate large 3D Shepp Logan phantom\n",
        "print('Creating phantom')\n",
        "phantom = ct_model_for_generation.gen_modified_3d_sl_phantom()\n",
        "print(\"Shape of phantom: \", phantom.shape)\n",
        "\n",
        "# Generate synthetic sinogram data\n",
        "print('Creating sinogram')\n",
        "sinogram = ct_model_for_generation.forward_project(phantom)\n",
        "print(\"Type of sinogram: \", type(sinogram))\n",
        "sinogram = np.asarray(sinogram)\n",
        "print(\"sinogram.shape: \", sinogram.shape)\n",
        "\n",
        "\n",
        "# View sinogram\n",
        "title='Original sinogram\\nVery few rows to allow for fast execution'\n",
        "save_path = './results/sinogram.png'\n",
        "mbirjax.slice_viewer(sinogram, title=title, slice_axis=0, slice_label='View', save=True, save_path=save_path)"
      ]
    },
    {
      "cell_type": "markdown",
      "metadata": {
        "id": "ID-DRD0Gk6nN"
      },
      "source": [
        "**Do a cropped center reconstruction**\n",
        "\n",
        "We specify a recon size smaller than the default. This specifies that only a subregion near the center of rotation will be reconstructed.  \n",
        "\n",
        "As in demo_2_large_object, this will yield artifacts because some of the information in the sinogram comes from voxels that are projected to the detector on only some of the views.  We minimize the high-frequency artifacts by decreasing sharpness a little, but thee is a residual intensity shift.  "
      ]
    },
    {
      "cell_type": "code",
      "execution_count": 5,
      "metadata": {
        "colab": {
          "base_uri": "https://localhost:8080/"
        },
        "id": "33H9GP9JhxtJ",
        "outputId": "e3fa4703-87ff-4458-e880-4e1315578f1d"
      },
      "outputs": [
        {
          "name": "stdout",
          "output_type": "stream",
          "text": [
            "delta_voxel:  None\n",
            "----\n",
            "geometry_type = <class 'mbirjax.parallel_beam.ParallelBeamModel'>\n",
            "file_format = 1.0\n",
            "sinogram_shape = (400, 20, 400)\n",
            "delta_det_channel = 1.0\n",
            "delta_det_row = 1.0\n",
            "det_row_offset = 0.0\n",
            "det_channel_offset = 0.0\n",
            "sigma_y = 1.0\n",
            "recon_shape = (400, 400, 20)\n",
            "delta_voxel = 1.0\n",
            "sigma_x = 1.0\n",
            "sigma_prox = 1.0\n",
            "p = 2.0\n",
            "q = 1.2\n",
            "T = 1.0\n",
            "qggmrf_nbr_wts = [1.0, 1.0, 1.0]\n",
            "auto_regularize_flag = True\n",
            "positivity_flag = False\n",
            "snr_db = 30.0\n",
            "sharpness = 1.0\n",
            "granularity = [1, 2, 4, 8, 16, 32, 64, 128, 256]\n",
            "partition_sequence = [0, 2, 4, 6, 7]\n",
            "verbose = 1\n",
            "use_gpu = automatic\n",
            "view_params_name = angles\n",
            "----\n"
          ]
        },
        {
          "name": "stderr",
          "output_type": "stream",
          "text": [
            "GPU used for: full\n",
            "Estimated GPU memory required = 0.509 GB, available = 91.131 GB\n",
            "Estimated CPU memory required = 0.030 GB, available = 1446.084 GB\n"
          ]
        },
        {
          "name": "stdout",
          "output_type": "stream",
          "text": [
            "Starting cropped center recon\n"
          ]
        },
        {
          "name": "stderr",
          "output_type": "stream",
          "text": [
            "Starting direct recon for initial reconstruction\n",
            "Initializing error sinogram\n",
            "Computing Hessian diagonal\n",
            "Starting VCD iterations\n",
            "\n",
            "After iteration 0 of a max of 15: Pct change=24.1444, Forward loss=12.5234\n",
            "Relative step size (alpha)=0.02, Error sino RMSE=23.8305\n",
            "Number subsets = 1\n",
            "\n",
            "After iteration 1 of a max of 15: Pct change=27.4062, Forward loss=12.0599\n",
            "Relative step size (alpha)=0.10, Error sino RMSE=22.9485\n",
            "Number subsets = 4\n",
            "\n",
            "After iteration 2 of a max of 15: Pct change=24.2946, Forward loss=11.8987\n",
            "Relative step size (alpha)=0.28, Error sino RMSE=22.6417\n",
            "Number subsets = 16\n",
            "\n",
            "After iteration 3 of a max of 15: Pct change=23.0440, Forward loss=11.8472\n",
            "Relative step size (alpha)=1.03, Error sino RMSE=22.5438\n",
            "Number subsets = 64\n",
            "\n",
            "After iteration 4 of a max of 15: Pct change=14.2731, Forward loss=11.8362\n",
            "Relative step size (alpha)=1.30, Error sino RMSE=22.5229\n",
            "Number subsets = 128\n",
            "\n",
            "After iteration 5 of a max of 15: Pct change=6.5725, Forward loss=11.8328\n",
            "Relative step size (alpha)=1.32, Error sino RMSE=22.5164\n",
            "Number subsets = 128\n",
            "\n",
            "After iteration 6 of a max of 15: Pct change=3.2966, Forward loss=11.8313\n",
            "Relative step size (alpha)=1.33, Error sino RMSE=22.5135\n",
            "Number subsets = 128\n",
            "\n",
            "After iteration 7 of a max of 15: Pct change=1.8511, Forward loss=11.8305\n",
            "Relative step size (alpha)=1.34, Error sino RMSE=22.5119\n",
            "Number subsets = 128\n",
            "\n",
            "After iteration 8 of a max of 15: Pct change=1.1782, Forward loss=11.8299\n",
            "Relative step size (alpha)=1.37, Error sino RMSE=22.5110\n",
            "Number subsets = 128\n",
            "\n",
            "After iteration 9 of a max of 15: Pct change=0.8126, Forward loss=11.8296\n",
            "Relative step size (alpha)=1.37, Error sino RMSE=22.5103\n",
            "Number subsets = 128\n",
            "\n",
            "After iteration 10 of a max of 15: Pct change=0.5810, Forward loss=11.8293\n",
            "Relative step size (alpha)=1.40, Error sino RMSE=22.5098\n",
            "Number subsets = 128\n",
            "\n",
            "After iteration 11 of a max of 15: Pct change=0.4466, Forward loss=11.8292\n",
            "Relative step size (alpha)=1.41, Error sino RMSE=22.5095\n",
            "Number subsets = 128\n",
            "\n",
            "After iteration 12 of a max of 15: Pct change=0.3419, Forward loss=11.8290\n",
            "Relative step size (alpha)=1.42, Error sino RMSE=22.5092\n",
            "Number subsets = 128\n",
            "\n",
            "After iteration 13 of a max of 15: Pct change=0.2689, Forward loss=11.8289\n",
            "Relative step size (alpha)=1.42, Error sino RMSE=22.5090\n",
            "Number subsets = 128\n",
            "\n",
            "After iteration 14 of a max of 15: Pct change=0.2125, Forward loss=11.8288\n",
            "Relative step size (alpha)=1.43, Error sino RMSE=22.5088\n",
            "Number subsets = 128\n",
            "Logs written to /home/zhengtan/repos/scico/examples/mbirjax_scripts/logs/recon.log\n"
          ]
        },
        {
          "name": "stdout",
          "output_type": "stream",
          "text": [
            "{'model_params': {'T': Param(val=1.0, recompile_flag=False),\n",
            "                  'angles': Param(val=[-1.5707964  -1.5629424  -1.5550884  -1.5472344  -1.5393804  -1.5315264\n",
            " -1.5236725  -1.5158185  -1.5079645  -1.5001105  -1.4922565  -1.4844025\n",
            " -1.4765487  -1.4686946  -1.4608406  -1.4529866  -1.4451326  -1.4372786\n",
            " -1.4294246  -1.4215707  -1.4137167  -1.4058627  -1.3980087  -1.3901547\n",
            " -1.3823007  -1.3744467  -1.3665928  -1.3587388  -1.3508848  -1.3430308\n",
            " -1.335177   -1.327323   -1.319469   -1.311615   -1.303761   -1.295907\n",
            " -1.288053   -1.280199   -1.2723451  -1.2644911  -1.2566371  -1.2487831\n",
            " -1.2409291  -1.2330751  -1.2252212  -1.2173672  -1.2095132  -1.2016592\n",
            " -1.1938052  -1.1859514  -1.1780974  -1.1702434  -1.1623894  -1.1545354\n",
            " -1.1466814  -1.1388274  -1.1309735  -1.1231195  -1.1152655  -1.1074115\n",
            " -1.0995575  -1.0917034  -1.0838495  -1.0759954  -1.0681416  -1.0602875\n",
            " -1.0524336  -1.0445796  -1.0367256  -1.0288717  -1.0210177  -1.0131637\n",
            " -1.0053097  -0.9974557  -0.98960173 -0.98174775 -0.97389376 -0.9660398\n",
            " -0.9581858  -0.9503318  -0.9424778  -0.93462384 -0.92676985 -0.91891587\n",
            " -0.9110619  -0.9032079  -0.8953539  -0.8874999  -0.87964594 -0.8717921\n",
            " -0.863938   -0.8560841  -0.84823    -0.840376   -0.83252203 -0.82466805\n",
            " -0.81681406 -0.8089601  -0.8011061  -0.7932521  -0.7853981  -0.77754414\n",
            " -0.76969016 -0.7618362  -0.7539822  -0.7461282  -0.73827434 -0.73042035\n",
            " -0.72256637 -0.71471226 -0.7068584  -0.6990043  -0.6911504  -0.6832963\n",
            " -0.67544246 -0.66758835 -0.6597345  -0.6518804  -0.6440266  -0.6361725\n",
            " -0.6283186  -0.6204645  -0.6126105  -0.60475653 -0.59690267 -0.5890487\n",
            " -0.5811947  -0.5733407  -0.5654867  -0.55763274 -0.54977876 -0.5419248\n",
            " -0.5340708  -0.5262168  -0.5183628  -0.51050884 -0.50265473 -0.49480087\n",
            " -0.48694676 -0.4790929  -0.4712388  -0.46338493 -0.45553094 -0.44767696\n",
            " -0.43982297 -0.431969   -0.42411494 -0.41626108 -0.40840703 -0.40055305\n",
            " -0.39269912 -0.38484514 -0.37699115 -0.36913717 -0.36128318 -0.3534292\n",
            " -0.3455752  -0.33772123 -0.32986724 -0.32201332 -0.31415933 -0.30630523\n",
            " -0.29845136 -0.29059726 -0.2827434  -0.2748893  -0.26703542 -0.25918138\n",
            " -0.25132746 -0.24347341 -0.23561954 -0.22776544 -0.21991158 -0.21205747\n",
            " -0.20420349 -0.1963495  -0.18849552 -0.18064159 -0.1727876  -0.16493362\n",
            " -0.15707964 -0.14922565 -0.14137167 -0.13351768 -0.1256637  -0.11780971\n",
            " -0.10995567 -0.10210174 -0.0942477  -0.08639383 -0.07853973 -0.07068586\n",
            " -0.06283176 -0.05497795 -0.04712385 -0.03926998 -0.03141594 -0.02356201\n",
            " -0.01570797 -0.00785398  0.          0.00785398  0.01570797  0.02356195\n",
            "  0.03141594  0.03926992  0.04712385  0.05497783  0.06283182  0.0706858\n",
            "  0.07853979  0.08639377  0.09424776  0.10210174  0.10995573  0.11780971\n",
            "  0.1256637   0.13351768  0.14137173  0.14922571  0.1570797   0.16493368\n",
            "  0.17278767  0.18064165  0.18849558  0.19634956  0.20420355  0.21205753\n",
            "  0.21991152  0.2277655   0.23561949  0.24347347  0.25132746  0.25918144\n",
            "  0.26703542  0.2748893   0.28274328  0.29059726  0.29845124  0.30630523\n",
            "  0.3141592   0.3220132   0.32986718  0.33772117  0.3455752   0.3534292\n",
            "  0.36128318  0.36913717  0.37699115  0.38484514  0.39269912  0.4005531\n",
            "  0.4084071   0.41626102  0.424115    0.431969    0.43982297  0.44767696\n",
            "  0.45553094  0.46338493  0.4712389   0.4790929   0.48694688  0.49480087\n",
            "  0.50265485  0.5105088   0.51836276  0.52621675  0.53407073  0.54192483\n",
            "  0.5497788   0.55763274  0.5654867   0.5733408   0.5811947   0.5890487\n",
            "  0.59690267  0.60475665  0.61261064  0.6204646   0.62831855  0.63617253\n",
            "  0.6440265   0.6518805   0.6597345   0.6675885   0.67544246  0.68329644\n",
            "  0.6911504   0.6990044   0.7068584   0.7147124   0.72256637  0.73042035\n",
            "  0.73827434  0.7461284   0.75398237  0.76183635  0.7696903   0.77754414\n",
            "  0.7853981   0.7932521   0.8011061   0.8089601   0.81681406  0.82466805\n",
            "  0.83252203  0.840376    0.84823     0.856084    0.863938    0.87179196\n",
            "  0.87964594  0.8874999   0.8953539   0.90320784  0.9110618   0.9189158\n",
            "  0.9267698   0.9346238   0.9424777   0.9503318   0.9581858   0.9660398\n",
            "  0.97389376  0.98174775  0.98960173  0.9974557   1.0053097   1.0131637\n",
            "  1.0210177   1.0288717   1.0367256   1.0445795   1.0524335   1.0602875\n",
            "  1.0681415   1.0759954   1.0838494   1.0917034   1.0995574   1.1074114\n",
            "  1.1152654   1.1231194   1.1309733   1.1388273   1.1466814   1.1545354\n",
            "  1.1623894   1.1702434   1.1780974   1.1859514   1.1938052   1.2016592\n",
            "  1.2095132   1.2173672   1.2252212   1.2330751   1.2409291   1.2487831\n",
            "  1.2566371   1.2644911   1.2723451   1.280199    1.288053    1.295907\n",
            "  1.303761    1.311615    1.319469    1.327323    1.335177    1.3430309\n",
            "  1.3508849   1.3587389   1.3665929   1.3744469   1.3823009   1.3901548\n",
            "  1.3980088   1.4058628   1.4137168   1.4215708   1.4294248   1.4372787\n",
            "  1.4451327   1.4529866   1.4608406   1.4686946   1.4765486   1.4844025\n",
            "  1.4922565   1.5001105   1.5079645   1.5158185   1.5236723   1.5315263\n",
            "  1.5393803   1.5472344   1.5550884   1.5629424 ], recompile_flag=True),\n",
            "                  'auto_regularize_flag': Param(val=True, recompile_flag=False),\n",
            "                  'delta_det_channel': Param(val=1.0, recompile_flag=True),\n",
            "                  'delta_det_row': Param(val=1.0, recompile_flag=True),\n",
            "                  'delta_voxel': Param(val=1.0, recompile_flag=True),\n",
            "                  'det_channel_offset': Param(val=0.0, recompile_flag=True),\n",
            "                  'det_row_offset': Param(val=0.0, recompile_flag=True),\n",
            "                  'file_format': Param(val=1.0, recompile_flag=False),\n",
            "                  'geometry_type': Param(val=<class 'mbirjax.parallel_beam.ParallelBeamModel'>, recompile_flag=False),\n",
            "                  'granularity': Param(val=[1, 2, 4, 8, 16, 32, 64, 128, 256], recompile_flag=False),\n",
            "                  'p': Param(val=2.0, recompile_flag=False),\n",
            "                  'partition_sequence': Param(val=[0, 2, 4, 6, 7], recompile_flag=False),\n",
            "                  'positivity_flag': Param(val=False, recompile_flag=False),\n",
            "                  'q': Param(val=1.2, recompile_flag=False),\n",
            "                  'qggmrf_nbr_wts': Param(val=[1.0, 1.0, 1.0], recompile_flag=False),\n",
            "                  'recon_shape': Param(val=(200, 200, 20), recompile_flag=True),\n",
            "                  'sharpness': Param(val=-0.5, recompile_flag=False),\n",
            "                  'sigma_prox': Param(val=0.04149579629302025, recompile_flag=False),\n",
            "                  'sigma_x': Param(val=0.04149579629302025, recompile_flag=False),\n",
            "                  'sigma_y': Param(val=1.902880072593689, recompile_flag=False),\n",
            "                  'sinogram_shape': Param(val=(400, 20, 400), recompile_flag=True),\n",
            "                  'snr_db': Param(val=30.0, recompile_flag=False),\n",
            "                  'use_gpu': Param(val=automatic, recompile_flag=True),\n",
            "                  'verbose': Param(val=1, recompile_flag=False),\n",
            "                  'view_params_name': Param(val=angles, recompile_flag=True)},\n",
            " 'notes': 'Reconstruction completed: 2025-07-03 17:14:13.888341\\n\\n',\n",
            " 'recon_log': 'GPU used for: full\\n'\n",
            "              'Estimated GPU memory required = 0.509 GB, available = 91.131 '\n",
            "              'GB\\n'\n",
            "              'Estimated CPU memory required = 0.030 GB, available = 1446.084 '\n",
            "              'GB\\n'\n",
            "              'Starting direct recon for initial reconstruction\\n'\n",
            "              'Initializing error sinogram\\n'\n",
            "              'Computing Hessian diagonal\\n'\n",
            "              'Starting VCD iterations\\n'\n",
            "              '\\n'\n",
            "              'After iteration 0 of a max of 15: Pct change=24.1444, Forward '\n",
            "              'loss=12.5234\\n'\n",
            "              'Relative step size (alpha)=0.02, Error sino RMSE=23.8305\\n'\n",
            "              'Number subsets = 1\\n'\n",
            "              '\\n'\n",
            "              'After iteration 1 of a max of 15: Pct change=27.4062, Forward '\n",
            "              'loss=12.0599\\n'\n",
            "              'Relative step size (alpha)=0.10, Error sino RMSE=22.9485\\n'\n",
            "              'Number subsets = 4\\n'\n",
            "              '\\n'\n",
            "              'After iteration 2 of a max of 15: Pct change=24.2946, Forward '\n",
            "              'loss=11.8987\\n'\n",
            "              'Relative step size (alpha)=0.28, Error sino RMSE=22.6417\\n'\n",
            "              'Number subsets = 16\\n'\n",
            "              '\\n'\n",
            "              'After iteration 3 of a max of 15: Pct change=23.0440, Forward '\n",
            "              'loss=11.8472\\n'\n",
            "              'Relative step size (alpha)=1.03, Error sino RMSE=22.5438\\n'\n",
            "              'Number subsets = 64\\n'\n",
            "              '\\n'\n",
            "              'After iteration 4 of a max of 15: Pct change=14.2731, Forward '\n",
            "              'loss=11.8362\\n'\n",
            "              'Relative step size (alpha)=1.30, Error sino RMSE=22.5229\\n'\n",
            "              'Number subsets = 128\\n'\n",
            "              '\\n'\n",
            "              'After iteration 5 of a max of 15: Pct change=6.5725, Forward '\n",
            "              'loss=11.8328\\n'\n",
            "              'Relative step size (alpha)=1.32, Error sino RMSE=22.5164\\n'\n",
            "              'Number subsets = 128\\n'\n",
            "              '\\n'\n",
            "              'After iteration 6 of a max of 15: Pct change=3.2966, Forward '\n",
            "              'loss=11.8313\\n'\n",
            "              'Relative step size (alpha)=1.33, Error sino RMSE=22.5135\\n'\n",
            "              'Number subsets = 128\\n'\n",
            "              '\\n'\n",
            "              'After iteration 7 of a max of 15: Pct change=1.8511, Forward '\n",
            "              'loss=11.8305\\n'\n",
            "              'Relative step size (alpha)=1.34, Error sino RMSE=22.5119\\n'\n",
            "              'Number subsets = 128\\n'\n",
            "              '\\n'\n",
            "              'After iteration 8 of a max of 15: Pct change=1.1782, Forward '\n",
            "              'loss=11.8299\\n'\n",
            "              'Relative step size (alpha)=1.37, Error sino RMSE=22.5110\\n'\n",
            "              'Number subsets = 128\\n'\n",
            "              '\\n'\n",
            "              'After iteration 9 of a max of 15: Pct change=0.8126, Forward '\n",
            "              'loss=11.8296\\n'\n",
            "              'Relative step size (alpha)=1.37, Error sino RMSE=22.5103\\n'\n",
            "              'Number subsets = 128\\n'\n",
            "              '\\n'\n",
            "              'After iteration 10 of a max of 15: Pct change=0.5810, Forward '\n",
            "              'loss=11.8293\\n'\n",
            "              'Relative step size (alpha)=1.40, Error sino RMSE=22.5098\\n'\n",
            "              'Number subsets = 128\\n'\n",
            "              '\\n'\n",
            "              'After iteration 11 of a max of 15: Pct change=0.4466, Forward '\n",
            "              'loss=11.8292\\n'\n",
            "              'Relative step size (alpha)=1.41, Error sino RMSE=22.5095\\n'\n",
            "              'Number subsets = 128\\n'\n",
            "              '\\n'\n",
            "              'After iteration 12 of a max of 15: Pct change=0.3419, Forward '\n",
            "              'loss=11.8290\\n'\n",
            "              'Relative step size (alpha)=1.42, Error sino RMSE=22.5092\\n'\n",
            "              'Number subsets = 128\\n'\n",
            "              '\\n'\n",
            "              'After iteration 13 of a max of 15: Pct change=0.2689, Forward '\n",
            "              'loss=11.8289\\n'\n",
            "              'Relative step size (alpha)=1.42, Error sino RMSE=22.5090\\n'\n",
            "              'Number subsets = 128\\n'\n",
            "              '\\n'\n",
            "              'After iteration 14 of a max of 15: Pct change=0.2125, Forward '\n",
            "              'loss=11.8288\\n'\n",
            "              'Relative step size (alpha)=1.43, Error sino RMSE=22.5088\\n'\n",
            "              'Number subsets = 128\\n'\n",
            "              'Logs written to '\n",
            "              '/home/zhengtan/repos/scico/examples/mbirjax_scripts/logs/recon.log\\n',\n",
            " 'recon_params': {'alpha_values': [0.022868962958455086, 0.10125542432069778,\n",
            "                                   0.2795214056968689, 1.0344442129135132,\n",
            "                                   1.2989141941070557, 1.3220134973526,\n",
            "                                   1.3292237520217896, 1.3398544788360596,\n",
            "                                   1.366363525390625, 1.3737075328826904,\n",
            "                                   1.4023014307022095, 1.4119623899459839,\n",
            "                                   1.4175397157669067, 1.4245058298110962,\n",
            "                                   1.4268372058868408],\n",
            "                  'fm_rmse': [12.523369789123535, 12.059857368469238,\n",
            "                              11.898666381835938, 11.84720230102539,\n",
            "                              11.83619213104248, 11.832776069641113,\n",
            "                              11.831256866455078, 11.830451011657715,\n",
            "                              11.82994556427002, 11.829596519470215,\n",
            "                              11.829343795776367, 11.829154014587402,\n",
            "                              11.829010009765625, 11.828897476196289,\n",
            "                              11.828804016113281],\n",
            "                  'granularity': [1, 2, 4, 8, 16, 32, 64, 128, 256],\n",
            "                  'num_iterations': 15,\n",
            "                  'partition_sequence': [0, 2, 4, 6, 7, 7, 7, 7, 7, 7, 7, 7, 7,\n",
            "                                         7, 7],\n",
            "                  'prior_loss': [0],\n",
            "                  'regularization_params': {'sigma_prox': 0.04149579629302025,\n",
            "                                            'sigma_x': 0.04149579629302025,\n",
            "                                            'sigma_y': 1.902880072593689},\n",
            "                  'stop_threshold_change_pct': [24.144357442855835,\n",
            "                                                27.40616798400879,\n",
            "                                                24.294620752334595,\n",
            "                                                23.043957352638245,\n",
            "                                                14.273117482662201,\n",
            "                                                6.572523713111877,\n",
            "                                                3.2966248691082,\n",
            "                                                1.851075328886509,\n",
            "                                                1.178188156336546,\n",
            "                                                0.8125739172101021,\n",
            "                                                0.5810461938381195,\n",
            "                                                0.446619326248765,\n",
            "                                                0.34188544377684593,\n",
            "                                                0.26887995190918446,\n",
            "                                                0.2125137485563755]}}\n",
            "Elapsed time for recon is 23.151 seconds\n"
          ]
        }
      ],
      "source": [
        "# Initialize model for reconstruction.\n",
        "weights = None\n",
        "ct_model_for_recon = mbirjax.ParallelBeamModel(sinogram_shape, angles)\n",
        "\n",
        "# Print model parameters\n",
        "ct_model_for_recon.print_params()\n",
        "\n",
        "sharpness = -0.5\n",
        "recon_row_scale = 0.5\n",
        "recon_col_scale = 0.5\n",
        "ct_model_for_recon.scale_recon_shape(row_scale=recon_row_scale, col_scale=recon_col_scale)\n",
        "ct_model_for_recon.set_params(sharpness=sharpness)\n",
        "\n",
        "print('Starting cropped center recon')\n",
        "time0 = time.time()\n",
        "\n",
        "\n",
        "recon, recon_params = ct_model_for_recon.recon(sinogram, weights=weights)\n",
        "recon.block_until_ready()\n",
        "elapsed = time.time() - time0\n",
        "\n",
        "# Print out parameters used in recon\n",
        "if isinstance(recon_params, dict):\n",
        "    pprint.pprint(recon_params, compact=True)\n",
        "else:\n",
        "    pprint.pprint(recon_params._asdict(), compact=True)\n",
        "print('Elapsed time for recon is {:.3f} seconds'.format(elapsed))"
      ]
    },
    {
      "cell_type": "markdown",
      "metadata": {
        "id": "sjEQ_4FnlGcF"
      },
      "source": [
        "**Display the cropped center reconstruction.**"
      ]
    },
    {
      "cell_type": "code",
      "execution_count": 6,
      "metadata": {},
      "outputs": [
        {
          "name": "stdout",
          "output_type": "stream",
          "text": [
            "Shape of phantom:  (400, 400, 20)\n"
          ]
        }
      ],
      "source": [
        "print(\"Shape of phantom: \", phantom.shape)"
      ]
    },
    {
      "cell_type": "code",
      "execution_count": 7,
      "metadata": {
        "colab": {
          "base_uri": "https://localhost:8080/",
          "height": 619
        },
        "id": "8TAKCcPKlSBV",
        "outputId": "616318f5-2909-406c-d7cf-129853b39933"
      },
      "outputs": [
        {
          "name": "stdout",
          "output_type": "stream",
          "text": [
            "MSE:  0.1552195\n",
            "Shape of cropped_phantom:  (200, 200, 20)\n",
            "recon_shape:  (200, 200, 20)\n",
            "recon_radius:  [100, 100, 10]\n",
            "start_inds:  [100, 100]\n",
            "end_inds:  [300, 300]\n"
          ]
        }
      ],
      "source": [
        "title = 'Cropped center recon with sharpness = {:.1f}: Phantom (left) vs VCD Recon (right)'.format(sharpness)\n",
        "title += '\\nThis recon does not include all pixels used to generate the sinogram.'\n",
        "title += '\\nThe missing pixels lead to an intensity shift (adjust intensity to [0, 1]) and a bright outer ring.'\n",
        "recon_shape = ct_model_for_recon.get_params('recon_shape')\n",
        "recon_radius = [length // 2 for length in recon_shape]\n",
        "start_inds = [phantom.shape[j] // 2 - recon_radius[j] for j in range(2)]\n",
        "end_inds = [start_inds[j] + recon_shape[j] for j in range(2)]\n",
        "cropped_phantom = phantom[start_inds[0]:end_inds[0], start_inds[1]:end_inds[1]]\n",
        "\n",
        "mse = np.mean((cropped_phantom - recon)**2)\n",
        "print(\"MSE: \", mse)\n",
        "\n",
        "print(\"Shape of cropped_phantom: \", cropped_phantom.shape)\n",
        "print(\"recon_shape: \", recon_shape)\n",
        "print(\"recon_radius: \", recon_radius)\n",
        "print(\"start_inds: \", start_inds)\n",
        "print(\"end_inds: \", end_inds)\n",
        "\n",
        "save_path = './results/cropped_center_recon.png'\n",
        "mbirjax.slice_viewer(cropped_phantom, recon, title=title, vmin=0.0, vmax=2.0, save=True, save_path=save_path)\n",
        "# mbirjax.slice_viewer(phantom, recon, title=title, vmin=0.0, vmax=2.0, save=True, save_path=save_path)\n"
      ]
    },
    {
      "cell_type": "markdown",
      "metadata": {
        "id": "EIXSCqv7pRHd"
      },
      "source": [
        "**Next:** Try changing some of the parameters and re-running or try [some of the other demos](https://mbirjax.readthedocs.io/en/latest/demos_and_faqs.html).  "
      ]
    }
  ],
  "metadata": {
    "accelerator": "GPU",
    "colab": {
      "gpuType": "T4",
      "provenance": []
    },
    "kernelspec": {
      "display_name": "Python (ct_reconstruction)",
      "language": "python",
      "name": "ct_reconstruction"
    },
    "language_info": {
      "codemirror_mode": {
        "name": "ipython",
        "version": 3
      },
      "file_extension": ".py",
      "mimetype": "text/x-python",
      "name": "python",
      "nbconvert_exporter": "python",
      "pygments_lexer": "ipython3",
      "version": "3.13.5"
    }
  },
  "nbformat": 4,
  "nbformat_minor": 0
}
